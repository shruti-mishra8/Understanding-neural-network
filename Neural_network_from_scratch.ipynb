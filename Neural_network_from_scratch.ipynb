{
 "cells": [
  {
   "cell_type": "markdown",
   "id": "69c9c0ed",
   "metadata": {},
   "source": [
    "## 1. Importing Dependencies"
   ]
  },
  {
   "cell_type": "code",
   "execution_count": 1,
   "id": "03a94bf5",
   "metadata": {},
   "outputs": [],
   "source": [
    "import numpy as np\n",
    "import matplotlib.pyplot as plt"
   ]
  },
  {
   "cell_type": "markdown",
   "id": "17187076",
   "metadata": {},
   "source": [
    "## 2. Managing Dataset"
   ]
  },
  {
   "cell_type": "code",
   "execution_count": 2,
   "id": "adb532f5",
   "metadata": {},
   "outputs": [],
   "source": [
    "# Creating data set\n",
    "\n",
    "A =[0, 0, 1, 1, 0, 0,\n",
    "0, 1, 0, 0, 1, 0,\n",
    "1, 1, 1, 1, 1, 1,\n",
    "1, 0, 0, 0, 0, 1,\n",
    "1, 0, 0, 0, 0, 1]\n",
    "\n",
    "\n",
    "B =[0, 1, 1, 1, 1, 0,\n",
    "0, 1, 0, 0, 1, 0,\n",
    "0, 1, 1, 1, 1, 0,\n",
    "0, 1, 0, 0, 1, 0,\n",
    "0, 1, 1, 1, 1, 0]\n",
    "\n",
    "\n",
    "C =[0, 1, 1, 1, 1, 0,\n",
    "0, 1, 0, 0, 0, 0,\n",
    "0, 1, 0, 0, 0, 0,\n",
    "0, 1, 0, 0, 0, 0,\n",
    "0, 1, 1, 1, 1, 0]\n",
    "\n",
    "D = [0, 1, 1, 1, 0, 0,\n",
    " 0, 1, 0, 1, 0, 0,\n",
    " 0, 1, 0, 1, 0, 0, \n",
    " 0, 1, 0, 1, 0, 0,\n",
    " 0, 1, 1, 1, 0, 0]\n",
    "\n",
    "E = [0, 1, 1, 1, 1, 0,\n",
    " 0, 1, 0, 0, 0, 0,\n",
    " 0, 1, 1, 1, 0, 0,\n",
    " 0, 1, 0, 0, 0, 0,\n",
    " 0, 1, 1, 1, 1, 0]\n",
    "\n",
    "F = [0, 1, 1, 1, 1, 0,\n",
    " 0, 1, 0, 0, 0, 0,\n",
    " 0, 1, 1, 1, 0, 0,\n",
    " 0, 1, 0, 0, 0, 0,\n",
    " 0, 1, 0, 0, 0, 0]\n",
    "\n",
    "G = [0, 1, 1, 1, 1, 0,\n",
    " 0, 1, 0, 0, 0, 0,\n",
    " 0, 1, 0, 1, 1, 0,\n",
    " 0, 1, 0, 0, 1, 0,\n",
    " 0, 1, 1, 1, 1, 0]\n",
    "\n",
    "H = [0, 1, 0, 1, 0, 0,\n",
    " 0, 1, 0, 1, 0, 0,\n",
    " 0, 1, 1, 1, 0, 0,\n",
    " 0, 1, 0, 1, 0, 0, \n",
    " 0, 1, 0, 1, 0, 0]\n",
    "\n",
    "I = [0, 1, 1, 1, 0, 0,\n",
    " 0, 0, 1, 0, 0, 0,\n",
    " 0, 0, 1, 0, 0, 0,\n",
    " 0, 0, 1, 0, 0, 0, \n",
    " 0, 1, 1, 1, 0, 0]\n",
    "\n",
    "J = [0, 1, 1, 1, 1, 0,\n",
    " 0, 0, 0, 1, 0, 0,\n",
    " 0, 0, 0, 1, 0, 0, \n",
    " 0, 1, 0, 1, 0, 0,\n",
    " 0, 1, 1, 1, 0, 0]\n",
    "\n",
    "# Creating labels\n",
    "y =[[1, 0, 0, 0, 0, 0, 0, 0, 0, 0],\n",
    "[0, 1, 0, 0, 0, 0, 0, 0, 0, 0],\n",
    "[0, 0, 1, 0, 0, 0, 0, 0, 0, 0],\n",
    "[0, 0, 0, 1, 0, 0, 0, 0, 0, 0],\n",
    "[0, 0, 0, 0, 1, 0, 0, 0, 0, 0],\n",
    "[0, 0, 0, 0, 0, 1, 0, 0, 0, 0],   \n",
    "[0, 0, 0, 0, 0, 0, 1, 0, 0, 0],\n",
    "[0, 0, 0, 0, 0, 0, 0, 1, 0, 0],\n",
    "[0, 0, 0, 0, 0, 0, 0, 0, 1, 0],\n",
    "[0, 0, 0, 0, 0, 0, 0, 0, 0, 1]]\n"
   ]
  },
  {
   "cell_type": "code",
   "execution_count": 3,
   "id": "576039a6",
   "metadata": {},
   "outputs": [
    {
     "data": {
      "image/png": "[encoded data removed]",
      "text/plain": [
       "<Figure size 640x480 with 1 Axes>"
      ]
     },
     "metadata": {},
     "output_type": "display_data"
    }
   ],
   "source": [
    "plt.imshow(np.array(E).reshape(5, 6))\n",
    "plt.show();"
   ]
  },
  {
   "cell_type": "code",
   "execution_count": 4,
   "id": "ad737731",
   "metadata": {},
   "outputs": [],
   "source": [
    "# reshaping and arranging dataset\n",
    "X = [np.array(A).reshape(1,30), \n",
    "    np.array(B).reshape(1,30),\n",
    "    np.array(C).reshape(1,30),\n",
    "    np.array(D).reshape(1,30),\n",
    "    np.array(E).reshape(1,30),\n",
    "    np.array(F).reshape(1,30),\n",
    "    np.array(G).reshape(1,30),\n",
    "    np.array(H).reshape(1,30),\n",
    "    np.array(I).reshape(1,30),\n",
    "    np.array(J).reshape(1,30)]\n",
    "\n",
    "y = np.array(y)"
   ]
  },
  {
   "cell_type": "markdown",
   "id": "7eac11a2",
   "metadata": {},
   "source": [
    "## 3. Functions for Building Neural Network"
   ]
  },
  {
   "cell_type": "code",
   "execution_count": 5,
   "id": "f252c013",
   "metadata": {},
   "outputs": [],
   "source": [
    "# activation function\n",
    "def sigmoid(x):\n",
    "    return(1/(1+np.exp(-x)))\n",
    "\n",
    "# feed forward neural network\n",
    "def forward(x, w1, w2):\n",
    "    # hidden layer\n",
    "    z1 = x.dot(w1) # input from layer 1\n",
    "    a1 = sigmoid(z1) # output of layer 2\n",
    "     \n",
    "    # Output layer\n",
    "    z2 = a1.dot(w2)# input of output layer\n",
    "    a2 = sigmoid(z2)# output of output layer\n",
    "    return a2\n",
    "\n",
    "# initializing weights\n",
    "def weights(x, y):\n",
    "    l =[]\n",
    "    for i in range(x * y):\n",
    "        l.append(np.random.randn())\n",
    "    return(np.array(l).reshape(x, y))\n",
    "\n",
    "# defining loss using Mean-squares error\n",
    "def loss(out, y):\n",
    "    s =(np.square(out-y))\n",
    "    s = np.sum(s)/len(y)\n",
    "    return(s)\n",
    "\n",
    "# Back propagation of error\n",
    "def back_prop(x, y, w1, w2, alpha):\n",
    "     \n",
    "    # hidden layer\n",
    "    z1 = x.dot(w1)# input from layer 1\n",
    "    a1 = sigmoid(z1)# output of layer 2\n",
    "     \n",
    "    # Output layer\n",
    "    z2 = a1.dot(w2)# input of out layer\n",
    "    a2 = sigmoid(z2)# output of out layer\n",
    "    \n",
    "    # error in output layer\n",
    "    d2 =(a2-y)\n",
    "    d1 = np.multiply((w2.dot((d2.transpose()))).transpose(),\n",
    "                                   (np.multiply(a1, 1-a1)))\n",
    "    # Gradient for w1 and w2\n",
    "    w1_adj = x.transpose().dot(d1)\n",
    "    w2_adj = a1.transpose().dot(d2)\n",
    "     \n",
    "    # Updating parameters\n",
    "    w1 = w1-(alpha*(w1_adj))\n",
    "    w2 = w2-(alpha*(w2_adj))\n",
    "     \n",
    "    return(w1, w2)\n"
   ]
  },
  {
   "cell_type": "markdown",
   "id": "96eb336f",
   "metadata": {},
   "source": [
    "## 4. Train and Predict Function"
   ]
  },
  {
   "cell_type": "code",
   "execution_count": 6,
   "id": "e5c8959f",
   "metadata": {},
   "outputs": [],
   "source": [
    "def train(x, y, w1, w2, alpha = 0.01, epoch = 10):\n",
    "    acc =[]\n",
    "    losss =[]\n",
    "    for j in range(epoch):\n",
    "        l =[]\n",
    "        for i in range(len(x)):\n",
    "            out = forward(x[i], w1, w2)\n",
    "            l.append((loss(out, y[i])))\n",
    "            w1, w2 = back_prop(x[i], y[i], w1, w2, alpha)\n",
    "        print(\"epochs:\", j + 1, \"======== acc:\", (1-(sum(l)/len(x)))*100)  \n",
    "        acc.append((1-(sum(l)/len(x)))*100)\n",
    "        losss.append(sum(l)/len(x))\n",
    "    return(acc, losss, w1, w2)\n",
    "\n",
    "def predict(x, w1, w2):\n",
    "    Out = forward(x, w1, w2)\n",
    "    plt.imshow(x.reshape(5, 6))\n",
    "    plt.show()  "
   ]
  },
  {
   "cell_type": "code",
   "execution_count": 7,
   "id": "bcd37513",
   "metadata": {},
   "outputs": [
    {
     "name": "stdout",
     "output_type": "stream",
     "text": [
      "[[ 0.18604626 -0.58509194 -0.12397639 -0.98454413 -0.66730089]\n",
      " [-1.02404031 -1.84923661 -0.35558659 -0.06709083 -1.70110852]\n",
      " [-1.07747063 -0.83303495  1.03543211  0.97444469  0.88158751]\n",
      " [-0.91337259 -0.78194775  0.4742438   1.57168333  1.29952157]\n",
      " [ 1.06566399 -0.78813822  0.84797711 -1.37626882  2.52548651]\n",
      " [-0.18655742  0.35933228  1.45536037  1.06886629  0.18380963]\n",
      " [-0.36127695  0.25682927 -0.81192161  1.78064501 -0.00824843]\n",
      " [ 0.48895376 -0.66145943  0.2627629  -0.73280836 -1.80204464]\n",
      " [-1.34830958 -0.80039653  0.41872844  0.30450435 -0.11860102]\n",
      " [ 1.5057354   0.26276702  1.90074557  0.02130597  1.60704466]\n",
      " [ 1.44827793 -0.83642423  0.56563705  0.48910499 -1.37295391]\n",
      " [-1.49097061  0.22386989  0.4927302  -0.55837459  0.82547561]\n",
      " [-0.5427121  -0.9678046  -0.23179153  0.8205199  -0.95473048]\n",
      " [-0.51843383 -1.14125667  0.50622691 -0.34126867 -0.87800046]\n",
      " [ 0.04337228  2.12261832 -2.16813747 -2.7424472   0.7028495 ]\n",
      " [-0.24775959 -0.39624035  1.47199166  0.4033015   1.63395083]\n",
      " [ 0.3404546  -1.19371058 -1.15835896 -0.68805174  0.62549724]\n",
      " [-0.57962754 -0.54040893  1.11868511 -0.02221312 -0.19966402]\n",
      " [ 0.68510203 -0.74700495  0.68026924  0.87757315  0.37103475]\n",
      " [ 0.08874878 -0.30638318 -1.0051601  -1.11680939  0.69268974]\n",
      " [ 0.29462394 -0.66132725 -0.04121287 -0.55552087 -0.66302039]\n",
      " [-0.95239101 -0.77303015  1.03120399 -0.58052227  0.96991651]\n",
      " [ 0.03907236 -0.52710948 -1.36622255 -1.35517019  0.34721301]\n",
      " [ 0.86734369  0.92454903 -0.72797428 -0.47634111  0.53035871]\n",
      " [ 0.42725169  0.01348756 -0.66034389  0.62611322 -0.97988599]\n",
      " [ 0.18924498 -1.92841725 -1.22862741  0.53831535  0.02865051]\n",
      " [ 0.72661339 -0.88690867  0.32772631  0.81101758  1.3278963 ]\n",
      " [-0.11087137  0.16565401 -0.84431985  1.24709665 -0.69896102]\n",
      " [-2.17690534  1.18798807  1.40342001  0.92823573  0.51959008]\n",
      " [-0.35423453  0.4510911   1.29954525  0.10238278  0.13950706]] \n",
      "\n",
      " [[-5.14395297e-03 -7.15210958e-01 -8.85976278e-01  1.02910421e+00\n",
      "  -6.10898751e-01 -1.11975573e+00  6.70384911e-01 -2.23521775e-01\n",
      "   2.99705190e-03  7.02282629e-01]\n",
      " [ 7.30971643e-01 -4.40676116e-01 -1.75453155e+00  1.91508506e+00\n",
      "  -3.54972879e-01  6.41639306e-01  6.53479193e-01 -7.17693630e-01\n",
      "  -2.69965136e-01  6.16218828e-01]\n",
      " [-1.49776339e+00 -4.00666301e-01  2.48783673e-01 -7.60779814e-01\n",
      "  -5.70483659e-01 -7.46126703e-01  6.10076711e-01  2.54147437e-01\n",
      "   5.80871171e-01 -3.06405519e+00]\n",
      " [ 1.16222147e+00  5.42868063e-01  5.23741479e-01 -2.12076672e-01\n",
      "   1.52951904e-01  4.77127398e-01 -9.67233728e-01 -5.96571071e-01\n",
      "  -1.05608018e+00  4.36362444e-01]\n",
      " [ 1.93556965e+00  6.90639012e-02 -1.03923480e+00 -1.50506259e+00\n",
      "  -7.66498130e-01 -8.25474799e-01 -1.27472493e+00 -8.90418708e-01\n",
      "   2.43232696e-01 -3.61727976e-01]]\n"
     ]
    }
   ],
   "source": [
    "# initializing random weights\n",
    "w1 = weights(30, 5)  # input to hidden layer weights with 30 inputs and 5 hidden units\n",
    "w2 = weights(5, 10)  # hidden to output layer weights with 5 hidden units and 10 output labels\n",
    "\n",
    "print(w1, \"\\n\\n\", w2)"
   ]
  },
  {
   "cell_type": "code",
   "execution_count": 8,
   "id": "be8b690d",
   "metadata": {},
   "outputs": [
    {
     "name": "stdout",
     "output_type": "stream",
     "text": [
      "epochs: 1 ======== acc: 82.55043954594568\n",
      "epochs: 2 ======== acc: 87.42513593098518\n",
      "epochs: 3 ======== acc: 89.42582865415207\n",
      "epochs: 4 ======== acc: 90.21397315413515\n",
      "epochs: 5 ======== acc: 90.56099491813886\n",
      "epochs: 6 ======== acc: 90.74556012927545\n",
      "epochs: 7 ======== acc: 90.86337994583104\n",
      "epochs: 8 ======== acc: 90.95045819929317\n",
      "epochs: 9 ======== acc: 91.0218053329301\n",
      "epochs: 10 ======== acc: 91.08412954798297\n",
      "epochs: 11 ======== acc: 91.1406031252018\n",
      "epochs: 12 ======== acc: 91.19284272932468\n",
      "epochs: 13 ======== acc: 91.24177288392765\n",
      "epochs: 14 ======== acc: 91.28800137464815\n",
      "epochs: 15 ======== acc: 91.33197700854996\n",
      "epochs: 16 ======== acc: 91.37405478981263\n",
      "epochs: 17 ======== acc: 91.41452484268378\n",
      "epochs: 18 ======== acc: 91.4536280881473\n",
      "epochs: 19 ======== acc: 91.49156699995363\n",
      "epochs: 20 ======== acc: 91.52851411567427\n",
      "epochs: 21 ======== acc: 91.56461908441597\n",
      "epochs: 22 ======== acc: 91.60001450657731\n",
      "epochs: 23 ======== acc: 91.63482073563638\n",
      "epochs: 24 ======== acc: 91.66914983854376\n",
      "epochs: 25 ======== acc: 91.7031089445173\n",
      "epochs: 26 ======== acc: 91.73680322865377\n",
      "epochs: 27 ======== acc: 91.77033878112185\n",
      "epochs: 28 ======== acc: 91.80382561473502\n",
      "epochs: 29 ======== acc: 91.83738107070171\n",
      "epochs: 30 ======== acc: 91.87113389592126\n",
      "epochs: 31 ======== acc: 91.90522927866213\n",
      "epochs: 32 ======== acc: 91.9398351220725\n",
      "epochs: 33 ======== acc: 91.975149759084\n",
      "epochs: 34 ======== acc: 92.0114110684785\n",
      "epochs: 35 ======== acc: 92.0489063472726\n",
      "epochs: 36 ======== acc: 92.08798098878496\n",
      "epochs: 37 ======== acc: 92.12904150338106\n",
      "epochs: 38 ======== acc: 92.17254422844047\n",
      "epochs: 39 ======== acc: 92.21895564188382\n",
      "epochs: 40 ======== acc: 92.26866709578377\n",
      "epochs: 41 ======== acc: 92.3218558714383\n",
      "epochs: 42 ======== acc: 92.37831994100273\n",
      "epochs: 43 ======== acc: 92.43737367650311\n",
      "epochs: 44 ======== acc: 92.49792185999272\n",
      "epochs: 45 ======== acc: 92.55874479017257\n",
      "epochs: 46 ======== acc: 92.61885265676165\n",
      "epochs: 47 ======== acc: 92.67769396690339\n",
      "epochs: 48 ======== acc: 92.73513426278038\n",
      "epochs: 49 ======== acc: 92.7912944869594\n",
      "epochs: 50 ======== acc: 92.84637928651209\n",
      "epochs: 51 ======== acc: 92.900563374295\n",
      "epochs: 52 ======== acc: 92.95394170111818\n",
      "epochs: 53 ======== acc: 93.00652449124233\n",
      "epochs: 54 ======== acc: 93.05825734894934\n",
      "epochs: 55 ======== acc: 93.10905179670796\n",
      "epochs: 56 ======== acc: 93.15881582910376\n",
      "epochs: 57 ======== acc: 93.20747736607491\n",
      "epochs: 58 ======== acc: 93.25499708398543\n",
      "epochs: 59 ======== acc: 93.30137085127937\n",
      "epochs: 60 ======== acc: 93.3466247206832\n",
      "epochs: 61 ======== acc: 93.39080633308464\n",
      "epochs: 62 ======== acc: 93.43397593090839\n",
      "epochs: 63 ======== acc: 93.47619885218556\n",
      "epochs: 64 ======== acc: 93.51754016361136\n",
      "epochs: 65 ======== acc: 93.5580613290527\n",
      "epochs: 66 ======== acc: 93.59781847996662\n",
      "epochs: 67 ======== acc: 93.63686179877642\n",
      "epochs: 68 ======== acc: 93.67523559728508\n",
      "epochs: 69 ======== acc: 93.71297877810979\n",
      "epochs: 70 ======== acc: 93.75012546589542\n",
      "epochs: 71 ======== acc: 93.78670567366072\n",
      "epochs: 72 ======== acc: 93.82274592766338\n",
      "epochs: 73 ======== acc: 93.85826981502665\n",
      "epochs: 74 ======== acc: 93.8932984456357\n",
      "epochs: 75 ======== acc: 93.92785083641843\n",
      "epochs: 76 ======== acc: 93.96194423449346\n",
      "epochs: 77 ======== acc: 93.99559439798581\n",
      "epochs: 78 ======== acc: 94.02881585163931\n",
      "epochs: 79 ======== acc: 94.0616221305516\n",
      "epochs: 80 ======== acc: 94.09402602093694\n",
      "epochs: 81 ======== acc: 94.12603980284362\n",
      "epochs: 82 ======== acc: 94.15767549681401\n",
      "epochs: 83 ======== acc: 94.18894511476472\n",
      "epochs: 84 ======== acc: 94.21986091479177\n",
      "epochs: 85 ======== acc: 94.25043565991051\n",
      "epochs: 86 ======== acc: 94.28068288159922\n",
      "epochs: 87 ======== acc: 94.3106171500898\n",
      "epochs: 88 ======== acc: 94.34025435430678\n",
      "epochs: 89 ======== acc: 94.36961199483407\n",
      "epochs: 90 ======== acc: 94.39870949283382\n",
      "epochs: 91 ======== acc: 94.42756851578515\n",
      "epochs: 92 ======== acc: 94.45621331620036\n",
      "epochs: 93 ======== acc: 94.48467107039797\n",
      "epochs: 94 ======== acc: 94.51297218821625\n",
      "epochs: 95 ======== acc: 94.54115053689597\n",
      "epochs: 96 ======== acc: 94.5692434766811\n",
      "epochs: 97 ======== acc: 94.5972915326444\n",
      "epochs: 98 ======== acc: 94.6253374150328\n",
      "epochs: 99 ======== acc: 94.65342393778904\n",
      "epochs: 100 ======== acc: 94.68159017105042\n"
     ]
    }
   ],
   "source": [
    "# training the model\n",
    "acc, losss, w1, w2 = train(X, y, w1, w2, 0.1, 100)"
   ]
  },
  {
   "cell_type": "code",
   "execution_count": 9,
   "id": "dea2b547",
   "metadata": {},
   "outputs": [
    {
     "data": {
      "image/png": "[encoded data removed]",
      "text/plain": [
       "<Figure size 640x480 with 1 Axes>"
      ]
     },
     "metadata": {},
     "output_type": "display_data"
    },
    {
     "data": {
      "image/png": "[encoded data removed]",
      "text/plain": [
       "<Figure size 640x480 with 1 Axes>"
      ]
     },
     "metadata": {},
     "output_type": "display_data"
    }
   ],
   "source": [
    "# ploting accuracy\n",
    "plt.plot(acc)\n",
    "plt.ylabel('Accuracy')\n",
    "plt.xlabel(\"Epochs:\")\n",
    "plt.show()\n",
    " \n",
    "# plotting Loss\n",
    "plt.plot(losss)\n",
    "plt.ylabel('Loss')\n",
    "plt.xlabel(\"Epochs:\")\n",
    "plt.show()"
   ]
  },
  {
   "cell_type": "code",
   "execution_count": 10,
   "id": "00d7c2b8",
   "metadata": {},
   "outputs": [
    {
     "data": {
      "image/png": "[encoded data removed]",
      "text/plain": [
       "<Figure size 640x480 with 1 Axes>"
      ]
     },
     "metadata": {},
     "output_type": "display_data"
    }
   ],
   "source": [
    "predict(X[7], w1, w2)"
   ]
  },
  {
   "cell_type": "code",
   "execution_count": null,
   "id": "989b1985",
   "metadata": {},
   "outputs": [],
   "source": []
  }
 ],
 "metadata": {
  "kernelspec": {
   "display_name": "Python 3 (ipykernel)",
   "language": "python",
   "name": "python3"
  },
  "language_info": {
   "codemirror_mode": {
    "name": "ipython",
    "version": 3
   },
   "file_extension": ".py",
   "mimetype": "text/x-python",
   "name": "python",
   "nbconvert_exporter": "python",
   "pygments_lexer": "ipython3",
   "version": "3.7.12"
  }
 },
 "nbformat": 4,
 "nbformat_minor": 5
}
